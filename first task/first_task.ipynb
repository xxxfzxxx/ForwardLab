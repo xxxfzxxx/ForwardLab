{
 "cells": [
  {
   "cell_type": "markdown",
   "metadata": {},
   "source": [
    "1. Tokenized"
   ]
  },
  {
   "cell_type": "code",
   "execution_count": 1,
   "metadata": {},
   "outputs": [
    {
     "name": "stdout",
     "output_type": "stream",
     "text": [
      "['compatibility', 'of', 'systems', 'of', 'linear', 'constraints', 'over', 'the', 'set', 'of', 'natural', 'numbers', '.', 'criteria', 'of', 'compatibility', 'of', 'a', 'system', 'of', 'linear', 'diophantine', 'equations', ',', 'strict', 'inequations', ',', 'and', 'nonstrict', 'inequations', 'are', 'considered', '.', 'upper', 'bounds', 'for', 'components', 'of', 'a', 'minimal', 'set', 'of', 'solutions', 'and', 'algorithms', 'of', 'construction', 'of', 'minimal', 'generating', 'sets', 'of', 'solutions', 'for', 'all', 'ypes', 'of', 'systems', 'are', 'given', '.', 'these', 'criteria', 'and', 'the', 'corresponding', 'algorithms', 'for', 'constructing', 'a', 'minimal', 'supporting', 'set', 'of', 'solutions', 'can', 'be', 'used', 'in', 'solving', 'all', 'the', 'considered', 'types', 'of', 'systems', 'and', 'systems', 'of', 'mixed', 'types', '.']\n"
     ]
    }
   ],
   "source": [
    "import nltk\n",
    "from nltk import word_tokenize\n",
    "import string\n",
    "\n",
    "\n",
    "\n",
    "text = \"Compatibility of systems of linear constraints over the set of natural numbers. Criteria of compatibility of a system of linear Diophantine equations, strict inequations, and \\\n",
    "nonstrict inequations are considered. Upper bounds for components of a minimal set of solutions and algorithms of construction of minimal generating sets of solutions for all \\types of systems are given. These criteria and the corresponding algorithms for constructing a minimal supporting set of solutions can be used in solving all the considered types of systems and systems of mixed types.\"\n",
    "\n",
    "\n",
    "def clean(text):\n",
    "    text = text.lower()\n",
    "    cleaned_text = ''\n",
    "    printable = set(string.printable)\n",
    "    for symbol in text:\n",
    "        if symbol in printable:\n",
    "            cleaned_text = cleaned_text + symbol\n",
    "    return cleaned_text\n",
    "\n",
    "cleaned_text = clean(text)\n",
    "text = word_tokenize(cleaned_text)\n",
    "\n",
    "print(text)"
   ]
  },
  {
   "cell_type": "markdown",
   "metadata": {},
   "source": [
    "2. annotated with POS tags"
   ]
  },
  {
   "cell_type": "code",
   "execution_count": 2,
   "metadata": {},
   "outputs": [
    {
     "name": "stdout",
     "output_type": "stream",
     "text": [
      "[('compatibility', 'NN'), ('of', 'IN'), ('systems', 'NNS'), ('of', 'IN'), ('linear', 'JJ'), ('constraints', 'NNS'), ('over', 'IN'), ('the', 'DT'), ('set', 'NN'), ('of', 'IN'), ('natural', 'JJ'), ('numbers', 'NNS'), ('.', '.'), ('criteria', 'NNS'), ('of', 'IN'), ('compatibility', 'NN'), ('of', 'IN'), ('a', 'DT'), ('system', 'NN'), ('of', 'IN'), ('linear', 'JJ'), ('diophantine', 'NN'), ('equations', 'NNS'), (',', ','), ('strict', 'JJ'), ('inequations', 'NNS'), (',', ','), ('and', 'CC'), ('nonstrict', 'JJ'), ('inequations', 'NNS'), ('are', 'VBP'), ('considered', 'VBN'), ('.', '.'), ('upper', 'JJ'), ('bounds', 'NNS'), ('for', 'IN'), ('components', 'NNS'), ('of', 'IN'), ('a', 'DT'), ('minimal', 'JJ'), ('set', 'NN'), ('of', 'IN'), ('solutions', 'NNS'), ('and', 'CC'), ('algorithms', 'NN'), ('of', 'IN'), ('construction', 'NN'), ('of', 'IN'), ('minimal', 'JJ'), ('generating', 'VBG'), ('sets', 'NNS'), ('of', 'IN'), ('solutions', 'NNS'), ('for', 'IN'), ('all', 'DT'), ('ypes', 'NNS'), ('of', 'IN'), ('systems', 'NNS'), ('are', 'VBP'), ('given', 'VBN'), ('.', '.'), ('these', 'DT'), ('criteria', 'NNS'), ('and', 'CC'), ('the', 'DT'), ('corresponding', 'JJ'), ('algorithms', 'NN'), ('for', 'IN'), ('constructing', 'VBG'), ('a', 'DT'), ('minimal', 'JJ'), ('supporting', 'NN'), ('set', 'NN'), ('of', 'IN'), ('solutions', 'NNS'), ('can', 'MD'), ('be', 'VB'), ('used', 'VBN'), ('in', 'IN'), ('solving', 'VBG'), ('all', 'PDT'), ('the', 'DT'), ('considered', 'VBN'), ('types', 'NNS'), ('of', 'IN'), ('systems', 'NNS'), ('and', 'CC'), ('systems', 'NNS'), ('of', 'IN'), ('mixed', 'JJ'), ('types', 'NNS'), ('.', '.')]\n"
     ]
    }
   ],
   "source": [
    "POS_tag = nltk.pos_tag(text)\n",
    "print(POS_tag)"
   ]
  },
  {
   "cell_type": "markdown",
   "metadata": {},
   "source": [
    "3. lemmatization"
   ]
  },
  {
   "cell_type": "code",
   "execution_count": 3,
   "metadata": {},
   "outputs": [
    {
     "name": "stdout",
     "output_type": "stream",
     "text": [
      "['compatibility', 'of', 'system', 'of', 'linear', 'constraint', 'over', 'the', 'set', 'of', 'natural', 'number', '.', 'criterion', 'of', 'compatibility', 'of', 'a', 'system', 'of', 'linear', 'diophantine', 'equation', ',', 'strict', 'inequations', ',', 'and', 'nonstrict', 'inequations', 'are', 'considered', '.', 'upper', 'bound', 'for', 'component', 'of', 'a', 'minimal', 'set', 'of', 'solution', 'and', 'algorithm', 'of', 'construction', 'of', 'minimal', 'generating', 'set', 'of', 'solution', 'for', 'all', 'ypes', 'of', 'system', 'are', 'given', '.', 'these', 'criterion', 'and', 'the', 'corresponding', 'algorithm', 'for', 'constructing', 'a', 'minimal', 'supporting', 'set', 'of', 'solution', 'can', 'be', 'used', 'in', 'solving', 'all', 'the', 'considered', 'type', 'of', 'system', 'and', 'system', 'of', 'mixed', 'type', '.']\n"
     ]
    }
   ],
   "source": [
    "from nltk.stem import WordNetLemmatizer\n",
    "wordnet_lemmatizer = WordNetLemmatizer()\n",
    "adj_tags = ['JJ', 'JJR', 'JJS']\n",
    "lemmatized_text = []\n",
    "for pair in POS_tag:\n",
    "    if pair[1] in adj_tags:\n",
    "        lemmatized_text.append(str(wordnet_lemmatizer.lemmatize(pair[0], pos='a'))) # a denotes adj\n",
    "    else:\n",
    "        lemmatized_text.append(str(wordnet_lemmatizer.lemmatize(pair[0]))) # default tag is noun\n",
    "print(lemmatized_text)\n",
    "POS_tag = nltk.pos_tag(lemmatized_text)"
   ]
  },
  {
   "cell_type": "markdown",
   "metadata": {},
   "source": [
    "4. syntactic filter: noun and adj"
   ]
  },
  {
   "cell_type": "code",
   "execution_count": 4,
   "metadata": {},
   "outputs": [
    {
     "name": "stdout",
     "output_type": "stream",
     "text": [
      "['of', 'of', 'over', 'the', 'of', '.', 'of', 'of', 'a', 'of', ',', ',', 'and', 'are', 'considered', '.', 'for', 'of', 'a', 'of', 'and', 'of', 'of', 'of', 'for', 'all', 'of', 'are', 'given', '.', 'these', 'and', 'the', 'for', 'a', 'of', 'can', 'be', 'used', 'in', 'all', 'the', 'considered', 'of', 'and', 'of', '.', '!', '\"', '#', '$', '%', '&', \"'\", '(', ')', '*', '+', ',', '-', '.', '/', ':', ';', '<', '=', '>', '?', '@', '[', '\\\\', ']', '^', '_', '`', '{', '|', '}', '~']\n"
     ]
    }
   ],
   "source": [
    "stopwords = []\n",
    "noun_adj_tags = ['NN','NNS','NNP','NNPS','JJ','JJR','JJS','VBG','FW'] \n",
    "for pair in POS_tag:\n",
    "    if pair[1] not in noun_adj_tags:\n",
    "        stopwords.append(pair[0])\n",
    "punctuations = list(str(string.punctuation))\n",
    "stopwords = stopwords + punctuations\n",
    "print(stopwords)\n",
    "        "
   ]
  },
  {
   "cell_type": "code",
   "execution_count": 5,
   "metadata": {},
   "outputs": [
    {
     "name": "stdout",
     "output_type": "stream",
     "text": [
      "{'indeed', 'anyways', 'ts', 'certain', 'were', 'our', 'x', 'used', 'past', 'name', 'showns', 'sub', 'after', 'getting', 'sent', 'myself', 'around', 'nor', 'relatively', 'wheres', 'howbeit', 'tip', 'ref', 'present', 'happens', 'whence', 'mostly', 'que', 'right', 'necessarily', 'look', 'thus', 'it', 'regards', 'vols', 'upon', 'sometime', 'non', '&', 'often', 'formerly', 'from', 'make', 'thanx', 'thou', 'down', 'meantime', 'enough', 'unto', 'causes', 'wasnt', 'nd', 'com', 'gives', 'ought', 'let', 'we', 'resulted', 'both', 'during', 'm', 'unless', 'werent', 'a', 'obviously', 'accordance', 'certainly', 'part', 'specify', 'otherwise', 'in', 'affects', 'noted', 'whereas', 'more', 'mg', 'awfully', 'beside', 'am', 'www', 'youre', 'something', 'until', 'several', 'specifying', 'f', 'trying', \"didn't\", 'take', 'obtained', 'similarly', 'unlikely', 'although', 'everything', 'once', 'plus', 'pp', 'themselves', 'get', 'saying', 'wont', 'elsewhere', 'seemed', 'us', '%', 'whereupon', 'sec', 'able', 're', 'seeming', \"'ve\", 'v', 'furthermore', 'far', 'him', 'thered', 'almost', 'ourselves', '_', 'widely', 'somewhat', 'does', 'rd', 'whod', 'begin', 'anywhere', 'sometimes', 'theres', 'likely', 'i', 'always', 'everyone', 'herein', 'says', \"isn't\", 'hi', ']', 'vol', 'necessary', 'apparently', ')', 'mug', 'along', 'you', 'further', '/', 'thereby', 'downwards', 'had', 'taken', 'nevertheless', 'less', 'e', 'afterwards', 'each', 'obtain', 'refs', 'may', 'her', 'wherever', 'oh', 'strongly', 'why', 'made', 'thereto', 'latter', 'substantially', 'every', 'should', 'became', 'date', 'eg', 'kept', 'on', 'before', 'if', 'within', 'pages', 'okay', 'ah', 'theirs', 'respectively', \"there've\", 'goes', '*', 'see', 'various', 'k', 'vs', 'beyond', 'having', 'via', 'similar', 'nay', 'immediate', 'proud', 'later', 'lest', 'following', 'done', 'say', 'asking', 'this', 'q', 'many', 'who', 'thereof', 'new', 'must', 'usefulness', 'truly', '=', 'hardly', 'ml', 'probably', ';', 'thats', 'thoughh', 'ever', 'tried', 'anyway', 'whose', 'together', 'hereafter', 'rather', 'most', 'twice', 'or', 'showed', 'was', 'tell', '<', 'readily', 'whole', 'thanks', 'least', 'latterly', 'found', 'considered', 'came', 'tries', ',', 'ok', 'nos', 'give', 'whom', 'aside', '.', 'under', 'regardless', 'becomes', 'co', 'theyd', 'added', 'abst', 'been', \"can't\", 'thence', 'therein', 'placed', 'namely', 'no', 'someone', 'lets', 'can', 'nobody', '@', 'tends', 'anyhow', 'usually', \"that've\", 'use', 'un', 'possibly', 'through', 'miss', \"we've\", 'alone', 'actually', '+', 'wants', 'believe', 'whether', 'fifth', 'out', 'these', 'hence', 'yours', 'please', 'everybody', 'that', 'shows', 'however', 'merely', 'different', 'across', 'show', 'which', 'hereupon', 'words', 'perhaps', 'try', 'stop', 'put', 'first', 'being', 'do', 'but', 'somewhere', 'cannot', \"what'll\", 'index', 'announce', 'need', \"who'll\", 'somehow', 'y', 'etc', 'doing', 'significantly', 'up', 'another', 'particular', 'arent', 'again', 'ones', 'he', 'j', 'kg', 'mrs', 'nearly', 'thereafter', 'mr', 'is', '^', 'keeps', 'begins', 'would', 'adj', 'anyone', 'qv', 'some', 'whos', 'accordingly', \"she'll\", 'six', 'hundred', 'giving', 'because', 'h', 'ltd', 'theyre', 'mainly', 'yes', 'not', '>', 'hes', 'me', '~', '[', 'while', 'related', 'hed', 'looking', 'none', 'na', 'potentially', 'needs', 'affected', 'between', 'old', 'immediately', 'hid', 'whats', 'by', 'my', 'particularly', 'amongst', 'into', 'b', 'yourselves', \"don't\", 'own', 'specified', 'herself', 'off', 'self', 'home', '{', 'just', 'whatever', 'former', 'forth', 'got', 'neither', 'beginning', 'shall', 'with', 'where', 'somethan', 'p', 'especially', 'little', 'since', 'has', 'provides', 'than', \"'\", 'nonetheless', 'sup', 'near', 'youd', 'et', 'other', 'omitted', 'research', 'anything', 'below', 'im', 'seems', 'unlike', 'edu', 'she', 'also', 'shown', 'beforehand', 'given', 'there', 'yourself', 'whereafter', 'effect', 'throug', 'ups', 'so', 'uses', 'could', 'noone', 'away', \"we'll\", 'containing', 'gone', 'ed', 'specifically', 'useful', 'same', 'nowhere', 'therefore', 'ex', 'd', 'results', 'instead', 'poorly', 'of', 'contain', 'seeing', 'hither', 'onto', 'towards', 'have', 'all', 'available', 'never', 'itself', 'thousand', 'unfortunately', 'your', 'largely', 'id', 'those', 'km', 'except', 'th', 'liked', 'nothing', '#', 'wouldnt', 'their', 'lately', 'whenever', 'become', 'what', 'everywhere', \"haven't\", 'throughout', 'using', 'maybe', \"they've\", 'to', 'predominantly', 'them', 'come', 'per', 'invention', 'sufficiently', 's', 'shes', 'still', 'such', 'sorry', 'did', 'few', 'knows', 'anymore', ':', 'about', 'any', 'eighty', 'resulting', 'whim', 'seem', 'as', \"i've\", 'recently', 'thank', 'else', 'et-al', 'itd', 'owing', 'thru', 'line', 'said', '(', 'when', 'ask', 'soon', 'though', 'briefly', 'g', '$', 'importance', 'ninety', 'arise', '`', 'c', 'approximately', 'even', \"doesn't\", 'know', 'back', 'outside', 'therere', 'w', 'cause', 'makes', 'ff', 'welcome', 'possible', 'ca', '-', 'selves', 'significant', 'quickly', '\\\\', 'yet', 'section', 'slightly', '|', 'corresponding', 'information', 'z', 'anybody', 'regarding', 'gave', 'really', 'inward', 'behind', 'mean', 'already', 'gotten', 'million', 'looks', 'go', 'his', 'went', 'known', 'act', 'overall', \"that'll\", 'want', 'due', 'aren', 'run', 'sure\\tt', 'against', 'viz', 'u', 'besides', 'whomever', 'ie', 'beginnings', 'n', 'willing', 'above', 'hers', 'ran', 'saw', 'took', 'hereby', 'suggest', 'wherein', 'and', 'auth', 'keep', \"i'll\", \"hasn't\", 'followed', \"'ll\", 'wed', 'at', 'very', 'couldnt', 'be', 'becoming', 'ours', 'too', 'ending', \"shouldn't\", 'whereby', 'world', 'are', 'wish', 'normally', 'successfully', '}', 'end', \"you'll\", 'important', 'taking', 'contains', 'r', 'now', 'shed', 'over', 'ord', '\"', 'eight', 'brief', \"it'll\", \"they'll\", 'without', 'primarily', 'five', 'recent', 'quite', 'one', 'inc', 'they', 'how', 'promptly', 'two', 'zero', 'last', 'whither', 'much', 'previously', 'thereupon', 'might', \"you've\", 'gets', 'l', 'like', 'seven', 'an', 'its', \"there'll\", 'here', 'follows', 'among', 'page', 'himself', 'biol', 'heres', 'the', 'for', 'either', 'usefully', 'next', 'nine', 'only', 'then', 'toward', 'affecting', 'moreover', 'comes', 'value', 'seen', 'think', '!', 'four', 'somebody', 'til', 'according', 'others', 'whoever', 'meanwhile', '?', 'means', 'way', 'o', 'fix'}\n"
     ]
    }
   ],
   "source": [
    "stopword_file = open(\"long_stopwords.txt\", \"r\")\n",
    "\n",
    "long_stopwords = []\n",
    "\n",
    "for line in stopword_file.readlines():\n",
    "    long_stopwords.append(str(line.strip()))\n",
    "\n",
    "stopwords_plus = []\n",
    "stopwords_plus = stopwords + long_stopwords\n",
    "stopwords_plus = set(stopwords_plus)\n",
    "print(stopwords_plus)"
   ]
  },
  {
   "cell_type": "markdown",
   "metadata": {},
   "source": [
    "5. remove stopwords"
   ]
  },
  {
   "cell_type": "code",
   "execution_count": 6,
   "metadata": {},
   "outputs": [
    {
     "name": "stdout",
     "output_type": "stream",
     "text": [
      "['compatibility', 'system', 'linear', 'constraint', 'set', 'natural', 'number', 'criterion', 'compatibility', 'system', 'linear', 'diophantine', 'equation', 'strict', 'inequations', 'nonstrict', 'inequations', 'upper', 'bound', 'component', 'minimal', 'set', 'solution', 'algorithm', 'construction', 'minimal', 'generating', 'set', 'solution', 'ypes', 'system', 'criterion', 'algorithm', 'constructing', 'minimal', 'supporting', 'set', 'solution', 'solving', 'type', 'system', 'system', 'mixed', 'type']\n"
     ]
    }
   ],
   "source": [
    "processed_text = []\n",
    "for word in lemmatized_text:\n",
    "    if word not in stopwords_plus:\n",
    "        processed_text.append(word)\n",
    "print(processed_text)"
   ]
  },
  {
   "cell_type": "markdown",
   "metadata": {},
   "source": [
    "6. Unique Vocabulary"
   ]
  },
  {
   "cell_type": "code",
   "execution_count": 7,
   "metadata": {},
   "outputs": [
    {
     "name": "stdout",
     "output_type": "stream",
     "text": [
      "['component', 'system', 'upper', 'constraint', 'bound', 'criterion', 'inequations', 'solution', 'set', 'solving', 'nonstrict', 'supporting', 'diophantine', 'type', 'algorithm', 'generating', 'construction', 'constructing', 'minimal', 'number', 'natural', 'compatibility', 'mixed', 'ypes', 'equation', 'strict', 'linear']\n"
     ]
    }
   ],
   "source": [
    "vocabulary = list(set(processed_text))\n",
    "print(vocabulary)"
   ]
  },
  {
   "cell_type": "markdown",
   "metadata": {},
   "source": [
    "7. build graph(undirected unweighted)"
   ]
  },
  {
   "cell_type": "code",
   "execution_count": 8,
   "metadata": {},
   "outputs": [
    {
     "name": "stdout",
     "output_type": "stream",
     "text": [
      "[1. 1. 1. 1. 1. 1. 1. 1. 1. 1. 1. 1. 1. 1. 1. 1. 1. 1. 1. 1. 1. 1. 1. 1.\n",
      " 1. 1. 1.]\n"
     ]
    }
   ],
   "source": [
    "import numpy as np\n",
    "vocab_len = len(vocabulary)\n",
    "\n",
    "window_size =  2 # window can be set from 2 to 10\n",
    "coocurrences = []\n",
    "# create a adjacent matrix\n",
    "adjacent_matrix = np.zeros((vocab_len, vocab_len))\n",
    "# initialize vertex score\n",
    "score = np.zeros((vocab_len))\n",
    "for i in range(0, vocab_len):\n",
    "    score[i] = 1\n",
    "    for j in range(0, vocab_len):\n",
    "        if i==j:\n",
    "            adjacent_matrix[i][j] = 0\n",
    "        else:\n",
    "            for window_start in range(0, (len(processed_text) - window_size + 1)):\n",
    "                window_end = window_start + window_size\n",
    "                window  = processed_text[window_start : window_end]\n",
    "                if (vocabulary[i] in window) and (vocabulary[j] in window):\n",
    "                    index_i = window_start + window.index(vocabulary[i])\n",
    "                    index_j = window_start + window.index(vocabulary[j])\n",
    "                    if [index_i, index_j] not in coocurrences:\n",
    "                        adjacent_matrix[i][j] = 1\n",
    "                        coocurrences.append([index_i, index_j])\n",
    "print(score)"
   ]
  },
  {
   "cell_type": "code",
   "execution_count": 9,
   "metadata": {},
   "outputs": [
    {
     "data": {
      "text/plain": [
       "array([2., 6., 2., 2., 2., 4., 3., 4., 6., 2., 1., 2., 2., 3., 4., 2., 2.,\n",
       "       2., 6., 2., 2., 2., 2., 2., 2., 2., 3.])"
      ]
     },
     "execution_count": 9,
     "metadata": {},
     "output_type": "execute_result"
    }
   ],
   "source": [
    "inout = np.zeros((vocab_len))\n",
    "\n",
    "for i in range(0, vocab_len):\n",
    "    for j in range(0, vocab_len):\n",
    "        inout[i]+=adjacent_matrix[i][j]\n",
    "inout"
   ]
  },
  {
   "cell_type": "markdown",
   "metadata": {},
   "source": [
    "8. Socring vertices"
   ]
  },
  {
   "cell_type": "code",
   "execution_count": 10,
   "metadata": {},
   "outputs": [],
   "source": [
    "ITERATIONS = 25 #usually for 20-30\n",
    "THRESHOLD = 0.0001\n",
    "d = 0.85 # damping factor\n",
    "for iter in range(0, ITERATIONS):\n",
    "    prev_score = np.copy(score)\n",
    "    for i in range(0, vocab_len):\n",
    "        summation = 0\n",
    "        for j in range(0, vocab_len):\n",
    "            if adjacent_matrix[i][j] != 0:\n",
    "                summation += (1/inout[j]) * score[j]\n",
    "        score[i] = (1-d) + d*summation\n",
    "    if np.sum(np.fabs(prev_score - score)) <= THRESHOLD:\n",
    "        print('converging at iteration ', str(iter))\n",
    "        break\n"
   ]
  },
  {
   "cell_type": "code",
   "execution_count": 11,
   "metadata": {},
   "outputs": [
    {
     "name": "stdout",
     "output_type": "stream",
     "text": [
      "component 0.8031936220139722\n",
      "system 1.936251011123248\n",
      "upper 0.9237849657600081\n",
      "constraint 0.733098111387612\n",
      "bound 0.8839658998039416\n",
      "criterion 1.3175316511110928\n",
      "inequations 1.405038632748238\n",
      "solution 1.3050078165870294\n",
      "set 1.9257619961886245\n",
      "solving 0.7207552895953844\n",
      "nonstrict 0.5480942792786674\n",
      "supporting 0.7003219500375704\n",
      "diophantine 0.8452353137523048\n",
      "type 1.0356654377591505\n",
      "algorithm 1.306696072003438\n",
      "generating 0.7003219500375704\n",
      "construction 0.7051785825449124\n",
      "constructing 0.7051785825449124\n",
      "minimal 1.9588490248444366\n",
      "number 0.7440726756302841\n",
      "natural 0.7390471699362593\n",
      "compatibility 0.7042777024369007\n",
      "mixed 0.7177407672742194\n",
      "ypes 0.7016163876005372\n",
      "equation 0.9057725713032789\n",
      "strict 0.933047622082561\n",
      "linear 1.0950939322602582\n"
     ]
    }
   ],
   "source": [
    "for i in range(0, vocab_len):\n",
    "    print(vocabulary[i], str(score[i]))"
   ]
  },
  {
   "cell_type": "markdown",
   "metadata": {},
   "source": [
    "9. Phrase Partioning"
   ]
  },
  {
   "cell_type": "code",
   "execution_count": 12,
   "metadata": {},
   "outputs": [
    {
     "name": "stdout",
     "output_type": "stream",
     "text": [
      "[['compatibility'], ['system'], ['linear', 'constraint'], ['set'], ['natural', 'number'], ['criterion'], ['compatibility'], ['system'], ['linear', 'diophantine', 'equation'], ['strict', 'inequations'], ['nonstrict', 'inequations'], ['upper', 'bound'], ['component'], ['minimal', 'set'], ['solution'], ['algorithm'], ['construction'], ['minimal', 'generating', 'set'], ['solution'], ['ypes'], ['system'], ['criterion'], ['algorithm'], ['constructing'], ['minimal', 'supporting', 'set'], ['solution'], ['solving'], ['type'], ['system'], ['system'], ['mixed', 'type']]\n"
     ]
    }
   ],
   "source": [
    "phrases = []\n",
    "phrase = ' '\n",
    "for word in lemmatized_text:\n",
    "    if word in stopwords_plus:\n",
    "        if phrase!=' ':\n",
    "            phrases.append(str(phrase).strip().split())\n",
    "        phrase = ' '\n",
    "    elif word not in stopwords_plus:\n",
    "        phrase = phrase + str(word)\n",
    "        phrase = phrase + ' '\n",
    "print(phrases)"
   ]
  },
  {
   "cell_type": "code",
   "execution_count": 13,
   "metadata": {},
   "outputs": [
    {
     "name": "stdout",
     "output_type": "stream",
     "text": [
      "[['compatibility'], ['system'], ['linear', 'constraint'], ['set'], ['natural', 'number'], ['criterion'], ['linear', 'diophantine', 'equation'], ['strict', 'inequations'], ['nonstrict', 'inequations'], ['upper', 'bound'], ['component'], ['minimal', 'set'], ['solution'], ['algorithm'], ['construction'], ['minimal', 'generating', 'set'], ['ypes'], ['constructing'], ['minimal', 'supporting', 'set'], ['solving'], ['type'], ['mixed', 'type']]\n",
      "[['compatibility'], ['system'], ['linear', 'constraint'], ['natural', 'number'], ['criterion'], ['linear', 'diophantine', 'equation'], ['strict', 'inequations'], ['nonstrict', 'inequations'], ['upper', 'bound'], ['component'], ['minimal', 'set'], ['solution'], ['algorithm'], ['construction'], ['minimal', 'generating', 'set'], ['ypes'], ['constructing'], ['minimal', 'supporting', 'set'], ['solving'], ['mixed', 'type']]\n"
     ]
    }
   ],
   "source": [
    "unique_phrases = []\n",
    "\n",
    "for phrase in phrases:\n",
    "    if phrase not in unique_phrases:\n",
    "        unique_phrases.append(phrase)\n",
    "print(unique_phrases)\n",
    "\n",
    "for word in vocabulary:\n",
    "    for phrase in unique_phrases:\n",
    "        if (word in phrase) and ([word] in unique_phrases) and (len(phrase)>1):\n",
    "            unique_phrases.remove([word])\n",
    "            \n",
    "print(unique_phrases)"
   ]
  },
  {
   "cell_type": "markdown",
   "metadata": {},
   "source": [
    "10. Scoring phrases(adding corresponding vocabulary scores)"
   ]
  },
  {
   "cell_type": "code",
   "execution_count": 14,
   "metadata": {},
   "outputs": [
    {
     "name": "stdout",
     "output_type": "stream",
     "text": [
      "Keyword: ' compatibility ', Score:  0.7042777024369007\n",
      "Keyword: ' system ', Score:  1.936251011123248\n",
      "Keyword: ' linear constraint ', Score:  1.8281920436478702\n",
      "Keyword: ' natural number ', Score:  1.4831198455665433\n",
      "Keyword: ' criterion ', Score:  1.3175316511110928\n",
      "Keyword: ' linear diophantine equation ', Score:  2.8461018173158417\n",
      "Keyword: ' strict inequations ', Score:  2.338086254830799\n",
      "Keyword: ' nonstrict inequations ', Score:  1.9531329120269054\n",
      "Keyword: ' upper bound ', Score:  1.8077508655639498\n",
      "Keyword: ' component ', Score:  0.8031936220139722\n",
      "Keyword: ' minimal set ', Score:  3.884611021033061\n",
      "Keyword: ' solution ', Score:  1.3050078165870294\n",
      "Keyword: ' algorithm ', Score:  1.306696072003438\n",
      "Keyword: ' construction ', Score:  0.7051785825449124\n",
      "Keyword: ' minimal generating set ', Score:  4.584932971070631\n",
      "Keyword: ' ypes ', Score:  0.7016163876005372\n",
      "Keyword: ' constructing ', Score:  0.7051785825449124\n",
      "Keyword: ' minimal supporting set ', Score:  4.584932971070631\n",
      "Keyword: ' solving ', Score:  0.7207552895953844\n",
      "Keyword: ' mixed type ', Score:  1.7534062050333699\n"
     ]
    }
   ],
   "source": [
    "phrase_scores = []\n",
    "keywords = []\n",
    "for phrase in unique_phrases:\n",
    "    phrase_score=0\n",
    "    keyword = ''\n",
    "    for word in phrase:\n",
    "        keyword += str(word)\n",
    "        keyword += \" \"\n",
    "        phrase_score+=score[vocabulary.index(word)]\n",
    "    phrase_scores.append(phrase_score)\n",
    "    keywords.append(keyword.strip())\n",
    "\n",
    "i=0\n",
    "for keyword in keywords:\n",
    "    print (\"Keyword: '\",str(keyword),\"', Score: \",str(phrase_scores[i]))\n",
    "    i+=1"
   ]
  },
  {
   "cell_type": "markdown",
   "metadata": {},
   "source": [
    "11. Sort keyphrases"
   ]
  },
  {
   "cell_type": "code",
   "execution_count": 15,
   "metadata": {},
   "outputs": [
    {
     "name": "stdout",
     "output_type": "stream",
     "text": [
      "minimal supporting set  \n",
      "minimal generating set  \n",
      "minimal set  \n",
      "linear diophantine equation  \n",
      "strict inequations  \n",
      "nonstrict inequations  \n"
     ]
    }
   ],
   "source": [
    "sorted_index = np.flip(np.argsort(phrase_scores), 0)\n",
    "keywords_num = int(len(keywords) / 3)\n",
    "for i in range(0, keywords_num):\n",
    "    print(str(keywords[sorted_index[i]]), ' ')"
   ]
  },
  {
   "cell_type": "markdown",
   "metadata": {},
   "source": [
    "12. Visualization: WordCloud"
   ]
  },
  {
   "cell_type": "code",
   "execution_count": 16,
   "metadata": {},
   "outputs": [],
   "source": [
    "import os\n",
    "import matplotlib.pyplot as plt\n",
    "from wordcloud import WordCloud"
   ]
  },
  {
   "cell_type": "code",
   "execution_count": 17,
   "metadata": {},
   "outputs": [],
   "source": [
    "keywords_dict = {}\n",
    "for i in range(len(keywords)):\n",
    "    keywords_dict[keywords[i]] = phrase_scores[i] * 100"
   ]
  },
  {
   "cell_type": "code",
   "execution_count": 25,
   "metadata": {},
   "outputs": [],
   "source": [
    "wordcloud = WordCloud(width = 800, height = 800, \n",
    "                background_color ='white', \n",
    "                max_words=1000,\n",
    "                relative_scaling=1,\n",
    "                min_font_size = 10).generate_from_frequencies(keywords_dict)"
   ]
  },
  {
   "cell_type": "code",
   "execution_count": 26,
   "metadata": {},
   "outputs": [
    {
     "data": {
      "image/png": "[encoded data removed]",
      "text/plain": [
       "<Figure size 576x576 with 1 Axes>"
      ]
     },
     "metadata": {
      "needs_background": "light"
     },
     "output_type": "display_data"
    }
   ],
   "source": [
    "plt.figure(figsize = (8, 8), facecolor = None) \n",
    "plt.imshow(wordcloud) \n",
    "plt.axis(\"off\") \n",
    "\n",
    "plt.show()"
   ]
  },
  {
   "cell_type": "code",
   "execution_count": null,
   "metadata": {},
   "outputs": [],
   "source": []
  },
  {
   "cell_type": "code",
   "execution_count": null,
   "metadata": {},
   "outputs": [],
   "source": []
  }
 ],
 "metadata": {
  "kernelspec": {
   "display_name": "Python 3",
   "language": "python",
   "name": "python3"
  },
  "language_info": {
   "codemirror_mode": {
    "name": "ipython",
    "version": 3
   },
   "file_extension": ".py",
   "mimetype": "text/x-python",
   "name": "python",
   "nbconvert_exporter": "python",
   "pygments_lexer": "ipython3",
   "version": "3.8.5"
  }
 },
 "nbformat": 4,
 "nbformat_minor": 4
}
